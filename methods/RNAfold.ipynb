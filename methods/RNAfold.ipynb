{
 "cells": [
  {
   "cell_type": "markdown",
   "metadata": {
    "id": "TDPiVD2lK5sU"
   },
   "source": [
    "# Standard packages"
   ]
  },
  {
   "cell_type": "code",
   "execution_count": 9,
   "metadata": {
    "executionInfo": {
     "elapsed": 316,
     "status": "ok",
     "timestamp": 1645039461795,
     "user": {
      "displayName": "Leandro Bugnon",
      "photoUrl": "https://lh3.googleusercontent.com/a-/AOh14GgzVvcUV49jcdycZ0hiYEpk15dSatLCOzmAxByhTR8=s64",
      "userId": "04594583387142575984"
     },
     "user_tz": 180
    },
    "id": "RDB7DJGMoEYK"
   },
   "outputs": [],
   "source": [
    "import os\n",
    "import pandas as pd\n",
    "import time"
   ]
  },
  {
   "cell_type": "markdown",
   "metadata": {
    "id": "I6bOkFD6K-8K"
   },
   "source": [
    "# Specific installs"
   ]
  },
  {
   "cell_type": "code",
   "execution_count": 10,
   "metadata": {
    "executionInfo": {
     "elapsed": 1,
     "status": "ok",
     "timestamp": 1645039462068,
     "user": {
      "displayName": "Leandro Bugnon",
      "photoUrl": "https://lh3.googleusercontent.com/a-/AOh14GgzVvcUV49jcdycZ0hiYEpk15dSatLCOzmAxByhTR8=s64",
      "userId": "04594583387142575984"
     },
     "user_tz": 180
    },
    "id": "xwSM-JQ5yKF4"
   },
   "outputs": [],
   "source": [
    "method_name = \"RNAfold\""
   ]
  },
  {
   "cell_type": "code",
   "execution_count": 11,
   "metadata": {
    "executionInfo": {
     "elapsed": 10057,
     "status": "ok",
     "timestamp": 1645039472465,
     "user": {
      "displayName": "Leandro Bugnon",
      "photoUrl": "https://lh3.googleusercontent.com/a-/AOh14GgzVvcUV49jcdycZ0hiYEpk15dSatLCOzmAxByhTR8=s64",
      "userId": "04594583387142575984"
     },
     "user_tz": 180
    },
    "id": "A0n2MN2-F8l9"
   },
   "outputs": [],
   "source": [
    "!wget -q https://www.tbi.univie.ac.at/RNA/download/sourcecode/2_5_x/ViennaRNA-2.5.0.tar.gz\n",
    "!tar xfz ViennaRNA-2.5.0.tar.gz"
   ]
  },
  {
   "cell_type": "code",
   "execution_count": null,
   "metadata": {
    "id": "Pzn9H4-8zhP2"
   },
   "outputs": [],
   "source": [
    "source_path = \"/content/ViennaRNA-2.5.0/\"\n",
    "install_path = \"/usr/local/ViennaRNA-2.5.0/\"\n",
    "\n",
    "%cd /content/ViennaRNA-2.5.0\n",
    "!./configure \n",
    "!make\n",
    "!sudo make install\n",
    "%cd /content"
   ]
  },
  {
   "cell_type": "markdown",
   "metadata": {
    "id": "bCdjGI0grQpm"
   },
   "source": [
    "# S. cerevisiae (sce) 18 long non-coding RNA dataset\n",
    "Data source: https://genie.weizmann.ac.il/pubs/PARS10/data/sce_genes_folded.tab.gz"
   ]
  },
  {
   "cell_type": "code",
   "execution_count": 13,
   "metadata": {
    "executionInfo": {
     "elapsed": 427,
     "status": "ok",
     "timestamp": 1645040881492,
     "user": {
      "displayName": "Leandro Bugnon",
      "photoUrl": "https://lh3.googleusercontent.com/a-/AOh14GgzVvcUV49jcdycZ0hiYEpk15dSatLCOzmAxByhTR8=s64",
      "userId": "04594583387142575984"
     },
     "user_tz": 180
    },
    "id": "Fmvg_3l4_TBH"
   },
   "outputs": [],
   "source": [
    "import pandas as pd \n",
    "gh_path = \"https://raw.githubusercontent.com/sinc-lab/lncRNA-folding/master/data/\"\n",
    "sce = pd.read_csv(gh_path + \"sce_genes_folded.tab\", delimiter='\\t', \n",
    "                  header=None, index_col=0, \n",
    "                  names=(\"Gene ID\", \"sequence\", \"PARS-assisted folding\"))"
   ]
  },
  {
   "cell_type": "code",
   "execution_count": 14,
   "metadata": {
    "executionInfo": {
     "elapsed": 5,
     "status": "ok",
     "timestamp": 1645040881493,
     "user": {
      "displayName": "Leandro Bugnon",
      "photoUrl": "https://lh3.googleusercontent.com/a-/AOh14GgzVvcUV49jcdycZ0hiYEpk15dSatLCOzmAxByhTR8=s64",
      "userId": "04594583387142575984"
     },
     "user_tz": 180
    },
    "id": "eeup_dp2AHrN"
   },
   "outputs": [],
   "source": [
    "# Sequences to process\n",
    "yeast18lnc = [\"snR81\", \"snR34\", \"snR43\", \"snR44\",  \"snR31\",  \"snR10\",\n",
    "              \"snR63\", \"snR11\", \"snR82\", \"snR17b\", \"snR17a\", \"snR37\",\n",
    "              \"SCR1\",  \"SRG1\",  \"snR19\", \"snR30\",  \"LSR1\",   \"TLC1\"]"
   ]
  },
  {
   "cell_type": "markdown",
   "metadata": {
    "id": "Vz9-OyOlshXJ"
   },
   "source": [
    "# Compute structures"
   ]
  },
  {
   "cell_type": "code",
   "execution_count": 15,
   "metadata": {
    "executionInfo": {
     "elapsed": 5,
     "status": "ok",
     "timestamp": 1645040881494,
     "user": {
      "displayName": "Leandro Bugnon",
      "photoUrl": "https://lh3.googleusercontent.com/a-/AOh14GgzVvcUV49jcdycZ0hiYEpk15dSatLCOzmAxByhTR8=s64",
      "userId": "04594583387142575984"
     },
     "user_tz": 180
    },
    "id": "6WbzBYt7uvJO"
   },
   "outputs": [],
   "source": [
    "def run_folding(fasta_name):\n",
    "\n",
    "  # Compute structure\n",
    "  os.system(\"RNAfold -T 37 --noPS tmp.fasta > rnafold_tmp.fasta\")\n",
    "  \n",
    "  return \"rnafold_tmp.fasta\""
   ]
  },
  {
   "cell_type": "code",
   "execution_count": 16,
   "metadata": {
    "colab": {
     "base_uri": "https://localhost:8080/"
    },
    "executionInfo": {
     "elapsed": 7227,
     "status": "ok",
     "timestamp": 1645040888717,
     "user": {
      "displayName": "Leandro Bugnon",
      "photoUrl": "https://lh3.googleusercontent.com/a-/AOh14GgzVvcUV49jcdycZ0hiYEpk15dSatLCOzmAxByhTR8=s64",
      "userId": "04594583387142575984"
     },
     "user_tz": 180
    },
    "id": "EvIlcy1Vsd8t",
    "outputId": "d975be76-55d4-49c4-a1a9-20c16a2da191"
   },
   "outputs": [
    {
     "name": "stdout",
     "output_type": "stream",
     "text": [
      "   \t lnc \t len \t time\n",
      "1/18\tsnR81 \t 201\t 0.1 s\n",
      "2/18\tsnR34 \t 203\t 0.1 s\n",
      "3/18\tsnR43 \t 209\t 0.1 s\n",
      "4/18\tsnR44 \t 211\t 0.1 s\n",
      "5/18\tsnR31 \t 225\t 0.1 s\n",
      "6/18\tsnR10 \t 245\t 0.1 s\n",
      "7/18\tsnR63 \t 255\t 0.1 s\n",
      "8/18\tsnR11 \t 258\t 0.1 s\n",
      "9/18\tsnR82 \t 268\t 0.1 s\n",
      "10/18\tsnR17b \t 332\t 0.1 s\n",
      "11/18\tsnR17a \t 333\t 0.1 s\n",
      "12/18\tsnR37 \t 386\t 0.2 s\n",
      "13/18\tSCR1 \t 522\t 0.3 s\n",
      "14/18\tSRG1 \t 551\t 0.3 s\n",
      "15/18\tsnR19 \t 568\t 0.4 s\n",
      "16/18\tsnR30 \t 606\t 0.5 s\n",
      "17/18\tLSR1 \t 1175\t 2.0 s\n",
      "18/18\tTLC1 \t 1301\t 2.2 s\n"
     ]
    }
   ],
   "source": [
    "out_fasta_name = method_name + \"_yeast18\"\n",
    "if os.path.exists(out_fasta_name + \".fasta\"): os.remove(out_fasta_name + \".fasta\")\n",
    "\n",
    "lnc_ids = yeast18lnc\n",
    "print(\"   \\t lnc \\t len \\t time\")\n",
    "for i, lnc in enumerate(lnc_ids): \n",
    "\n",
    "  start_time = time.time()\n",
    "  seq = sce.loc[lnc][\"sequence\"]\n",
    "  print(f\"{i+1}/{len(lnc_ids)}\\t{lnc} \\t {len(seq)}\", end='\\t')\n",
    "\n",
    "  # Write a one-sequence fasta\n",
    "  with open(\"tmp.fasta\", \"w\") as ofile: \n",
    "    ofile.write(f\">{lnc}\\n{seq}\\n\")\n",
    "  \n",
    "  dot_file_name = run_folding(\"tmp.fasta\")\n",
    "\n",
    "  # Concatenate outputs\n",
    "  os.system(\"cat \" + dot_file_name + \" >> \" + out_fasta_name + \".fasta\") \n",
    "\n",
    "  print(f\"{time.time() - start_time: .1f} s\")"
   ]
  }
 ],
 "metadata": {
  "colab": {
   "collapsed_sections": [],
   "name": "RNAfold.ipynb",
   "provenance": [
    {
     "file_id": "12-svjUrH3vqPzlxyDwnDWVpGSigYUoNy",
     "timestamp": 1644340800595
    },
    {
     "file_id": "1Pri-xC9r064Y0XfYRGYGkQfAXalNXH6B",
     "timestamp": 1644333953828
    },
    {
     "file_id": "1dhERI_Orc5Y4tAv_GaeCNvZRyR99RjUQ",
     "timestamp": 1643394834915
    },
    {
     "file_id": "1AsNf4NrlSwDMqmjDiSbx9YrTNeKJYYNo",
     "timestamp": 1643288018739
    },
    {
     "file_id": "1GwdNuzwwDx7oru5KT-sB7K8AGtgEO94P",
     "timestamp": 1639659140840
    },
    {
     "file_id": "1nLXu1g0Ws9Dhm4-p88DpJDHwsGfnZLWZ",
     "timestamp": 1639618378257
    }
   ]
  },
  "kernelspec": {
   "display_name": "Python 3 (ipykernel)",
   "language": "python",
   "name": "python3"
  },
  "language_info": {
   "codemirror_mode": {
    "name": "ipython",
    "version": 3
   },
   "file_extension": ".py",
   "mimetype": "text/x-python",
   "name": "python",
   "nbconvert_exporter": "python",
   "pygments_lexer": "ipython3",
   "version": "3.9.10"
  }
 },
 "nbformat": 4,
 "nbformat_minor": 1
}
